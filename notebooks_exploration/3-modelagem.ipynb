{
 "cells": [
  {
   "cell_type": "markdown",
   "metadata": {},
   "source": [
    "# 3 - Modelagem\n",
    "\n",
    "Concluída a fase de exploração de dados, vamos agora modelá-los usando os padrões descobertos.\n",
    "\n",
    "Nessa fase, buscaremos construir um modelo que, baseado nas variáveis contidas na base de dados de COVID, prediga o resultado de um teste para COVID."
   ]
  },
  {
   "cell_type": "code",
   "execution_count": 14,
   "metadata": {},
   "outputs": [],
   "source": [
    "# para carregar a base de dadas limpa\n",
    "import pickle\n",
    "from typing import Tuple\n",
    "\n",
    "import numpy as np\n",
    "import pandas as pd\n",
    "from scipy import stats as spst\n",
    "from tqdm import tqdm\n",
    "\n",
    "# gráficos\n",
    "import seaborn as sns\n",
    "from matplotlib import rcParams, pyplot as plt\n",
    "\n",
    "# pacote com funções para análise desse projeto\n",
    "import os\n",
    "cwd = os.getcwd()\n",
    "os.chdir(\"../\")\n",
    "import scripts.plots as splt, scripts.metrics as smetrics\n",
    "os.chdir(cwd)\n",
    "\n",
    "# parâmetros do matplotlib\n",
    "# essencialmente, para deixar os gráficos maiores por padrão\n",
    "rcParams['figure.dpi'] = 120\n",
    "rcParams['figure.figsize'] = (10, 8)"
   ]
  },
  {
   "cell_type": "markdown",
   "metadata": {},
   "source": [
    "## Importação e checagem de integridade\n",
    "\n",
    "Vamos importar os dados limpos e verificar a integridade dos mesmos."
   ]
  },
  {
   "cell_type": "code",
   "execution_count": 50,
   "metadata": {},
   "outputs": [],
   "source": [
    "with open(r'../data/covid_limpo.df', 'rb') as covidfile:\n",
    "    pickler = pickle.Unpickler(file = covidfile)\n",
    "    covid = pickler.load()"
   ]
  },
  {
   "cell_type": "code",
   "execution_count": 22,
   "metadata": {},
   "outputs": [
    {
     "name": "stdout",
     "output_type": "stream",
     "text": [
      "<class 'pandas.core.frame.DataFrame'>\n",
      "Int64Index: 496285 entries, 0 to 499691\n",
      "Data columns (total 16 columns):\n",
      " #   Column               Non-Null Count   Dtype   \n",
      "---  ------               --------------   -----   \n",
      " 0   sex                  496285 non-null  category\n",
      " 1   patient_type         496285 non-null  category\n",
      " 2   pneumonia            496285 non-null  category\n",
      " 3   age                  496285 non-null  int8    \n",
      " 4   diabetes             496285 non-null  category\n",
      " 5   copd                 496285 non-null  category\n",
      " 6   asthma               496285 non-null  category\n",
      " 7   inmsupr              496285 non-null  category\n",
      " 8   hypertension         496285 non-null  category\n",
      " 9   other_disease        496285 non-null  category\n",
      " 10  cardiovascular       496285 non-null  category\n",
      " 11  obesity              496285 non-null  category\n",
      " 12  renal_chronic        496285 non-null  category\n",
      " 13  tobacco              496285 non-null  category\n",
      " 14  contact_other_covid  343718 non-null  category\n",
      " 15  covid_res            496285 non-null  category\n",
      "dtypes: category(15), int8(1)\n",
      "memory usage: 11.4 MB\n"
     ]
    }
   ],
   "source": [
    "covid.info()"
   ]
  },
  {
   "cell_type": "code",
   "execution_count": 23,
   "metadata": {},
   "outputs": [
    {
     "data": {
      "text/html": [
       "<div>\n",
       "<style scoped>\n",
       "    .dataframe tbody tr th:only-of-type {\n",
       "        vertical-align: middle;\n",
       "    }\n",
       "\n",
       "    .dataframe tbody tr th {\n",
       "        vertical-align: top;\n",
       "    }\n",
       "\n",
       "    .dataframe thead th {\n",
       "        text-align: right;\n",
       "    }\n",
       "</style>\n",
       "<table border=\"1\" class=\"dataframe\">\n",
       "  <thead>\n",
       "    <tr style=\"text-align: right;\">\n",
       "      <th></th>\n",
       "      <th>sex</th>\n",
       "      <th>patient_type</th>\n",
       "      <th>pneumonia</th>\n",
       "      <th>age</th>\n",
       "      <th>diabetes</th>\n",
       "      <th>copd</th>\n",
       "      <th>asthma</th>\n",
       "      <th>inmsupr</th>\n",
       "      <th>hypertension</th>\n",
       "      <th>other_disease</th>\n",
       "      <th>cardiovascular</th>\n",
       "      <th>obesity</th>\n",
       "      <th>renal_chronic</th>\n",
       "      <th>tobacco</th>\n",
       "      <th>contact_other_covid</th>\n",
       "      <th>covid_res</th>\n",
       "    </tr>\n",
       "    <tr>\n",
       "      <th>id</th>\n",
       "      <th></th>\n",
       "      <th></th>\n",
       "      <th></th>\n",
       "      <th></th>\n",
       "      <th></th>\n",
       "      <th></th>\n",
       "      <th></th>\n",
       "      <th></th>\n",
       "      <th></th>\n",
       "      <th></th>\n",
       "      <th></th>\n",
       "      <th></th>\n",
       "      <th></th>\n",
       "      <th></th>\n",
       "      <th></th>\n",
       "      <th></th>\n",
       "    </tr>\n",
       "  </thead>\n",
       "  <tbody>\n",
       "    <tr>\n",
       "      <th>0</th>\n",
       "      <td>0</td>\n",
       "      <td>1</td>\n",
       "      <td>0</td>\n",
       "      <td>27</td>\n",
       "      <td>0</td>\n",
       "      <td>0</td>\n",
       "      <td>0</td>\n",
       "      <td>0</td>\n",
       "      <td>0</td>\n",
       "      <td>0</td>\n",
       "      <td>0</td>\n",
       "      <td>0</td>\n",
       "      <td>0</td>\n",
       "      <td>0</td>\n",
       "      <td>0</td>\n",
       "      <td>1</td>\n",
       "    </tr>\n",
       "    <tr>\n",
       "      <th>1</th>\n",
       "      <td>0</td>\n",
       "      <td>1</td>\n",
       "      <td>0</td>\n",
       "      <td>24</td>\n",
       "      <td>0</td>\n",
       "      <td>0</td>\n",
       "      <td>0</td>\n",
       "      <td>0</td>\n",
       "      <td>0</td>\n",
       "      <td>0</td>\n",
       "      <td>0</td>\n",
       "      <td>0</td>\n",
       "      <td>0</td>\n",
       "      <td>0</td>\n",
       "      <td>NaN</td>\n",
       "      <td>1</td>\n",
       "    </tr>\n",
       "    <tr>\n",
       "      <th>2</th>\n",
       "      <td>1</td>\n",
       "      <td>0</td>\n",
       "      <td>0</td>\n",
       "      <td>54</td>\n",
       "      <td>0</td>\n",
       "      <td>0</td>\n",
       "      <td>0</td>\n",
       "      <td>0</td>\n",
       "      <td>0</td>\n",
       "      <td>0</td>\n",
       "      <td>0</td>\n",
       "      <td>1</td>\n",
       "      <td>0</td>\n",
       "      <td>0</td>\n",
       "      <td>NaN</td>\n",
       "      <td>1</td>\n",
       "    </tr>\n",
       "    <tr>\n",
       "      <th>3</th>\n",
       "      <td>0</td>\n",
       "      <td>0</td>\n",
       "      <td>1</td>\n",
       "      <td>30</td>\n",
       "      <td>0</td>\n",
       "      <td>0</td>\n",
       "      <td>0</td>\n",
       "      <td>0</td>\n",
       "      <td>0</td>\n",
       "      <td>0</td>\n",
       "      <td>0</td>\n",
       "      <td>0</td>\n",
       "      <td>0</td>\n",
       "      <td>0</td>\n",
       "      <td>NaN</td>\n",
       "      <td>1</td>\n",
       "    </tr>\n",
       "    <tr>\n",
       "      <th>4</th>\n",
       "      <td>1</td>\n",
       "      <td>0</td>\n",
       "      <td>0</td>\n",
       "      <td>60</td>\n",
       "      <td>1</td>\n",
       "      <td>0</td>\n",
       "      <td>0</td>\n",
       "      <td>0</td>\n",
       "      <td>1</td>\n",
       "      <td>0</td>\n",
       "      <td>1</td>\n",
       "      <td>0</td>\n",
       "      <td>0</td>\n",
       "      <td>0</td>\n",
       "      <td>NaN</td>\n",
       "      <td>1</td>\n",
       "    </tr>\n",
       "  </tbody>\n",
       "</table>\n",
       "</div>"
      ],
      "text/plain": [
       "   sex patient_type pneumonia  age diabetes copd asthma inmsupr hypertension  \\\n",
       "id                                                                             \n",
       "0    0            1         0   27        0    0      0       0            0   \n",
       "1    0            1         0   24        0    0      0       0            0   \n",
       "2    1            0         0   54        0    0      0       0            0   \n",
       "3    0            0         1   30        0    0      0       0            0   \n",
       "4    1            0         0   60        1    0      0       0            1   \n",
       "\n",
       "   other_disease cardiovascular obesity renal_chronic tobacco  \\\n",
       "id                                                              \n",
       "0              0              0       0             0       0   \n",
       "1              0              0       0             0       0   \n",
       "2              0              0       1             0       0   \n",
       "3              0              0       0             0       0   \n",
       "4              0              1       0             0       0   \n",
       "\n",
       "   contact_other_covid covid_res  \n",
       "id                                \n",
       "0                    0         1  \n",
       "1                  NaN         1  \n",
       "2                  NaN         1  \n",
       "3                  NaN         1  \n",
       "4                  NaN         1  "
      ]
     },
     "execution_count": 23,
     "metadata": {},
     "output_type": "execute_result"
    }
   ],
   "source": [
    "covid.head()"
   ]
  },
  {
   "cell_type": "code",
   "execution_count": 24,
   "metadata": {},
   "outputs": [
    {
     "data": {
      "text/plain": [
       "0    0.558919\n",
       "1    0.441081\n",
       "Name: covid_res, dtype: float64"
      ]
     },
     "execution_count": 24,
     "metadata": {},
     "output_type": "execute_result"
    }
   ],
   "source": [
    "covid.covid_res.value_counts(normalize = True)"
   ]
  },
  {
   "cell_type": "markdown",
   "metadata": {},
   "source": [
    "## Construção dos possíveis modelos\n",
    "\n",
    "Vamos construir os possíveis modelos, para então compará-los.\n",
    "\n",
    "Cada modelo será um `Pipeline` onde entra a base de treino (`X_train`, `y_train`) e sai uma probabilidade de classificação. Para cada modelo, construiremos os passos dessa `Pipeline`."
   ]
  },
  {
   "cell_type": "markdown",
   "metadata": {},
   "source": [
    "### 1. Tratamento dos dados faltantes\n",
    "\n",
    "Como falamos na seção de análise exploratória dos dados, tínhamos três opções para tratamento dos dados faltantes no campo `contact_other_covid`:\n",
    "\n",
    "1. Remover os registros correspondentes;\n",
    "2. Codificar os dados faltantes como uma nova categoria; ou\n",
    "3. Remover o campo da análise.\n",
    "\n",
    "Vamos agora implementar os três processadores."
   ]
  },
  {
   "cell_type": "code",
   "execution_count": 51,
   "metadata": {},
   "outputs": [],
   "source": [
    "from sklearn.model_selection import train_test_split\n",
    "# função para separar bases diferentes em treino e teste\n",
    "\n",
    "def train_test_split_base(\n",
    "    base: pd.DataFrame,\n",
    "    test_size: float,\n",
    "    target: str,\n",
    "    stratify: bool = True\n",
    ") -> Tuple:\n",
    "    \n",
    "    base = base.copy()\n",
    "\n",
    "    X = base.drop(columns = [target])\n",
    "    y = base[target]\n",
    "\n",
    "    if stratify:\n",
    "        X_train, X_test, y_train, y_test = train_test_split(\n",
    "            X, y,\n",
    "            test_size = test_size,\n",
    "            stratify = y,     # não é estritamente necessário pois a base é razoavelmente balanceada\n",
    "        )\n",
    "    \n",
    "    else:\n",
    "        X_train, X_test, y_train, y_test = train_test_split(\n",
    "            X, y,\n",
    "            test_size = test_size,\n",
    "        )\n",
    "\n",
    "    return base, (X_train, X_test, y_train, y_test)"
   ]
  },
  {
   "cell_type": "code",
   "execution_count": 52,
   "metadata": {},
   "outputs": [],
   "source": [
    "bases = {}\n",
    "tts = {}   # train test split\n",
    "test_size = 0.4\n"
   ]
  },
  {
   "cell_type": "markdown",
   "metadata": {},
   "source": [
    "#### 1. Remover os registros correspondentes"
   ]
  },
  {
   "cell_type": "code",
   "execution_count": 53,
   "metadata": {},
   "outputs": [],
   "source": [
    "alternativa = 'contact_dropna'\n",
    "\n",
    "bases[alternativa], tts[alternativa] = train_test_split_base(\n",
    "    base = covid.dropna(),\n",
    "    test_size = test_size,\n",
    "    target = 'covid_res',\n",
    "    stratify = True,\n",
    ")"
   ]
  },
  {
   "cell_type": "markdown",
   "metadata": {},
   "source": [
    "#### 2. Codificar os dados faltantes como uma nova categoria"
   ]
  },
  {
   "cell_type": "code",
   "execution_count": 54,
   "metadata": {},
   "outputs": [],
   "source": [
    "alternativa = 'contact_nacat'\n",
    "\n",
    "base = covid.copy()\n",
    "base['contact_other_covid'] = base['contact_other_covid'].cat.codes.astype('category')\n",
    "\n",
    "bases[alternativa], tts[alternativa] = train_test_split_base(\n",
    "    base = base,\n",
    "    test_size = test_size,\n",
    "    target = 'covid_res',\n",
    "    stratify = True,\n",
    ")"
   ]
  },
  {
   "cell_type": "markdown",
   "metadata": {},
   "source": [
    "#### 3. Eliminar o campo `contact_other_covid` da análise"
   ]
  },
  {
   "cell_type": "code",
   "execution_count": 59,
   "metadata": {},
   "outputs": [],
   "source": [
    "alternativa = 'contact_drop'\n",
    "\n",
    "bases[alternativa], tts[alternativa] = train_test_split_base(\n",
    "    base = covid.drop(columns = 'contact_other_covid'),\n",
    "    test_size = test_size,\n",
    "    target = 'covid_res',\n",
    "    stratify = True,\n",
    ")"
   ]
  },
  {
   "cell_type": "markdown",
   "metadata": {},
   "source": [
    "### Modelo 1: blah blah"
   ]
  },
  {
   "cell_type": "markdown",
   "metadata": {},
   "source": []
  }
 ],
 "metadata": {
  "interpreter": {
   "hash": "49c2d9072e237c44d0dfdf93edb0b2db9ca84a00f7fad675561ffcc6e7527ded"
  },
  "kernelspec": {
   "display_name": "Python 3.9.5 64-bit ('dsd': conda)",
   "language": "python",
   "name": "python3"
  },
  "language_info": {
   "codemirror_mode": {
    "name": "ipython",
    "version": 3
   },
   "file_extension": ".py",
   "mimetype": "text/x-python",
   "name": "python",
   "nbconvert_exporter": "python",
   "pygments_lexer": "ipython3",
   "version": "3.9.5"
  },
  "orig_nbformat": 4
 },
 "nbformat": 4,
 "nbformat_minor": 2
}
