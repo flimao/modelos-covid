{
 "cells": [
  {
   "cell_type": "markdown",
   "metadata": {},
   "source": [
    "# 5 - Conclusões\n",
    "\n",
    "Resumimos aqui as principais conclusões alcançadas no trabalho de modelagem para predição de resultados de testes de COVID."
   ]
  },
  {
   "cell_type": "code",
   "execution_count": null,
   "metadata": {},
   "outputs": [],
   "source": [
    "# para carregar a base de dadas limpa\n",
    "import pickle\n",
    "\n",
    "import numpy as np\n",
    "import pandas as pd\n",
    "from scipy import stats as spst\n",
    "\n",
    "from pprint import pprint\n",
    "\n",
    "# gráficos\n",
    "import seaborn as sns\n",
    "from matplotlib import rcParams, pyplot as plt\n",
    "\n",
    "# parâmetros do matplotlib\n",
    "# essencialmente, para deixar os gráficos maiores por padrão\n",
    "rcParams['figure.dpi'] = 120\n",
    "rcParams['figure.figsize'] = (10, 8)\n",
    "\n",
    "# warnings\n",
    "import warnings\n",
    "warnings.filterwarnings(\"ignore\")\n",
    "\n",
    "# pacote com funções para análise desse projeto\n",
    "import os\n",
    "cwd = os.getcwd()\n",
    "os.chdir(\"../\")\n",
    "import scripts.plots as splt, scripts.metrics as smetrics\n",
    "os.chdir(cwd)"
   ]
  },
  {
   "cell_type": "markdown",
   "metadata": {},
   "source": [
    "## Importação dos modelos fitados\n",
    "\n",
    "Vamos importar os modelos já fitados porém com parâmetros padrão."
   ]
  },
  {
   "cell_type": "code",
   "execution_count": null,
   "metadata": {},
   "outputs": [],
   "source": [
    "with open(r'../models/modelo_default.model', 'rb') as modelfile:\n",
    "    pickler = pickle.Unpickler(file = modelfile)\n",
    "    modelos_import = pickler.load()"
   ]
  },
  {
   "cell_type": "code",
   "execution_count": null,
   "metadata": {},
   "outputs": [],
   "source": [
    "modelos = modelos_import['modelo']\n",
    "\n",
    "X_train, X_test, y_train, y_test = modelos_import['train_test_split']"
   ]
  },
  {
   "cell_type": "code",
   "execution_count": null,
   "metadata": {},
   "outputs": [
    {
     "name": "stdout",
     "output_type": "stream",
     "text": [
      "<class 'pandas.core.frame.DataFrame'>\n",
      "Int64Index: 50000 entries, 485731 to 53605\n",
      "Data columns (total 17 columns):\n",
      " #   Column               Non-Null Count  Dtype   \n",
      "---  ------               --------------  -----   \n",
      " 0   sex                  50000 non-null  category\n",
      " 1   patient_type         50000 non-null  category\n",
      " 2   pneumonia            50000 non-null  category\n",
      " 3   age                  50000 non-null  int8    \n",
      " 4   pregnancy            50000 non-null  category\n",
      " 5   diabetes             50000 non-null  category\n",
      " 6   copd                 50000 non-null  category\n",
      " 7   asthma               50000 non-null  category\n",
      " 8   inmsupr              50000 non-null  category\n",
      " 9   hypertension         50000 non-null  category\n",
      " 10  other_disease        50000 non-null  category\n",
      " 11  cardiovascular       50000 non-null  category\n",
      " 12  obesity              50000 non-null  category\n",
      " 13  renal_chronic        50000 non-null  category\n",
      " 14  tobacco              50000 non-null  category\n",
      " 15  contact_other_covid  50000 non-null  category\n",
      " 16  covid_res            50000 non-null  category\n",
      "dtypes: category(16), int8(1)\n",
      "memory usage: 1.2 MB\n"
     ]
    }
   ],
   "source": [
    "covid = modelos_import['base']\n",
    "\n",
    "covid.info()"
   ]
  },
  {
   "cell_type": "code",
   "execution_count": null,
   "metadata": {},
   "outputs": [
    {
     "data": {
      "text/html": [
       "<div>\n",
       "<style scoped>\n",
       "    .dataframe tbody tr th:only-of-type {\n",
       "        vertical-align: middle;\n",
       "    }\n",
       "\n",
       "    .dataframe tbody tr th {\n",
       "        vertical-align: top;\n",
       "    }\n",
       "\n",
       "    .dataframe thead th {\n",
       "        text-align: right;\n",
       "    }\n",
       "</style>\n",
       "<table border=\"1\" class=\"dataframe\">\n",
       "  <thead>\n",
       "    <tr style=\"text-align: right;\">\n",
       "      <th></th>\n",
       "      <th>sex</th>\n",
       "      <th>patient_type</th>\n",
       "      <th>pneumonia</th>\n",
       "      <th>age</th>\n",
       "      <th>pregnancy</th>\n",
       "      <th>diabetes</th>\n",
       "      <th>copd</th>\n",
       "      <th>asthma</th>\n",
       "      <th>inmsupr</th>\n",
       "      <th>hypertension</th>\n",
       "      <th>other_disease</th>\n",
       "      <th>cardiovascular</th>\n",
       "      <th>obesity</th>\n",
       "      <th>renal_chronic</th>\n",
       "      <th>tobacco</th>\n",
       "      <th>contact_other_covid</th>\n",
       "      <th>covid_res</th>\n",
       "    </tr>\n",
       "    <tr>\n",
       "      <th>id</th>\n",
       "      <th></th>\n",
       "      <th></th>\n",
       "      <th></th>\n",
       "      <th></th>\n",
       "      <th></th>\n",
       "      <th></th>\n",
       "      <th></th>\n",
       "      <th></th>\n",
       "      <th></th>\n",
       "      <th></th>\n",
       "      <th></th>\n",
       "      <th></th>\n",
       "      <th></th>\n",
       "      <th></th>\n",
       "      <th></th>\n",
       "      <th></th>\n",
       "      <th></th>\n",
       "    </tr>\n",
       "  </thead>\n",
       "  <tbody>\n",
       "    <tr>\n",
       "      <th>485731</th>\n",
       "      <td>1</td>\n",
       "      <td>1</td>\n",
       "      <td>0</td>\n",
       "      <td>57</td>\n",
       "      <td>0</td>\n",
       "      <td>0</td>\n",
       "      <td>0</td>\n",
       "      <td>0</td>\n",
       "      <td>0</td>\n",
       "      <td>1</td>\n",
       "      <td>0</td>\n",
       "      <td>0</td>\n",
       "      <td>0</td>\n",
       "      <td>0</td>\n",
       "      <td>0</td>\n",
       "      <td>1</td>\n",
       "      <td>0</td>\n",
       "    </tr>\n",
       "    <tr>\n",
       "      <th>278436</th>\n",
       "      <td>0</td>\n",
       "      <td>0</td>\n",
       "      <td>0</td>\n",
       "      <td>87</td>\n",
       "      <td>0</td>\n",
       "      <td>0</td>\n",
       "      <td>0</td>\n",
       "      <td>0</td>\n",
       "      <td>0</td>\n",
       "      <td>1</td>\n",
       "      <td>1</td>\n",
       "      <td>0</td>\n",
       "      <td>0</td>\n",
       "      <td>0</td>\n",
       "      <td>0</td>\n",
       "      <td>-1</td>\n",
       "      <td>0</td>\n",
       "    </tr>\n",
       "    <tr>\n",
       "      <th>372264</th>\n",
       "      <td>1</td>\n",
       "      <td>1</td>\n",
       "      <td>0</td>\n",
       "      <td>28</td>\n",
       "      <td>0</td>\n",
       "      <td>0</td>\n",
       "      <td>0</td>\n",
       "      <td>0</td>\n",
       "      <td>0</td>\n",
       "      <td>0</td>\n",
       "      <td>0</td>\n",
       "      <td>0</td>\n",
       "      <td>0</td>\n",
       "      <td>0</td>\n",
       "      <td>0</td>\n",
       "      <td>1</td>\n",
       "      <td>0</td>\n",
       "    </tr>\n",
       "    <tr>\n",
       "      <th>321682</th>\n",
       "      <td>1</td>\n",
       "      <td>1</td>\n",
       "      <td>0</td>\n",
       "      <td>48</td>\n",
       "      <td>0</td>\n",
       "      <td>0</td>\n",
       "      <td>0</td>\n",
       "      <td>0</td>\n",
       "      <td>0</td>\n",
       "      <td>0</td>\n",
       "      <td>0</td>\n",
       "      <td>0</td>\n",
       "      <td>0</td>\n",
       "      <td>0</td>\n",
       "      <td>0</td>\n",
       "      <td>0</td>\n",
       "      <td>0</td>\n",
       "    </tr>\n",
       "    <tr>\n",
       "      <th>247228</th>\n",
       "      <td>1</td>\n",
       "      <td>1</td>\n",
       "      <td>0</td>\n",
       "      <td>9</td>\n",
       "      <td>0</td>\n",
       "      <td>0</td>\n",
       "      <td>0</td>\n",
       "      <td>0</td>\n",
       "      <td>0</td>\n",
       "      <td>0</td>\n",
       "      <td>0</td>\n",
       "      <td>0</td>\n",
       "      <td>0</td>\n",
       "      <td>0</td>\n",
       "      <td>0</td>\n",
       "      <td>1</td>\n",
       "      <td>0</td>\n",
       "    </tr>\n",
       "  </tbody>\n",
       "</table>\n",
       "</div>"
      ],
      "text/plain": [
       "       sex patient_type pneumonia  age pregnancy diabetes copd asthma inmsupr  \\\n",
       "id                                                                              \n",
       "485731   1            1         0   57         0        0    0      0       0   \n",
       "278436   0            0         0   87         0        0    0      0       0   \n",
       "372264   1            1         0   28         0        0    0      0       0   \n",
       "321682   1            1         0   48         0        0    0      0       0   \n",
       "247228   1            1         0    9         0        0    0      0       0   \n",
       "\n",
       "       hypertension other_disease cardiovascular obesity renal_chronic  \\\n",
       "id                                                                       \n",
       "485731            1             0              0       0             0   \n",
       "278436            1             1              0       0             0   \n",
       "372264            0             0              0       0             0   \n",
       "321682            0             0              0       0             0   \n",
       "247228            0             0              0       0             0   \n",
       "\n",
       "       tobacco contact_other_covid covid_res  \n",
       "id                                            \n",
       "485731       0                   1         0  \n",
       "278436       0                  -1         0  \n",
       "372264       0                   1         0  \n",
       "321682       0                   0         0  \n",
       "247228       0                   1         0  "
      ]
     },
     "metadata": {},
     "output_type": "display_data"
    }
   ],
   "source": [
    "covid.head()"
   ]
  },
  {
   "cell_type": "markdown",
   "metadata": {},
   "source": [
    "## Análise exploratória da base de dados\n",
    "\n",
    "Antes do ajuste dos modelos, é importante conhecermos os dados: o que significa cada campo, o tipo dos dados (categóricos, numéricos, ordinais, texto etc), a ordem de grandeza dos valores, como eles se relacionam entre si etc.\n",
    "\n",
    "Para tal, conduzimos uma análise exploratória dos dados de testes de COVID.\n",
    "\n",
    "O único campo numérico é a idade; os outros são todos categóricos binários (homem/mulher, sim/não, positivo/negativo etc)."
   ]
  },
  {
   "cell_type": "markdown",
   "metadata": {},
   "source": [
    "Embora haja tecnicamente 32.4 milhões de combinações dos valores únicos combinados de todos os campos, vimos que as colunas são altamente correlacionadas. 82% das correlações 2 a 2 foram consideradas estatisticamente significativas."
   ]
  },
  {
   "cell_type": "markdown",
   "metadata": {},
   "source": [
    "Eliminamos da análise os campos `intubed` e `icu` da análise, visto que nestes campos o preenchimento é muito inconsistente (acima de 70% de dados faltantes), de forma que em quaisquer novos provavelmente estes campos também não estarão preenchidos, o que os torna de pouco valor para o modelo."
   ]
  },
  {
   "cell_type": "markdown",
   "metadata": {},
   "source": [
    "Vimos que, entre os pacientes que foram examinados e liberados para casa, não há muita diferença de idade entre os que tiveram um resultado positivo ou um negativo (entre 25 e 35 anos, aproximadamente). Já para os que foram internados, os pacientes que tiveram um resultado positivo de COVID são mais idosos e com dispersão muito menor que os com resultado negativo."
   ]
  },
  {
   "cell_type": "markdown",
   "metadata": {},
   "source": [
    "Inicialmente formulammos uma hipótese em que o paciente seria internado primariamente por presença de comorbidades evidentes, seja visualmente (*e.g.* obesidade) ou em exames básicos (*e.g.* pneumonia).\n",
    "\n",
    "No entanto, essa hipótese não se confirmou; a presença de comorbidades responde por apenas 12% da correlação com o *status*  de internação."
   ]
  },
  {
   "cell_type": "markdown",
   "metadata": {},
   "source": [
    "Esperávamos que as comorbidades tivessem grande relação com o resultado do teste de COVID. Essa hipótese se confirmou: mesmo ajustando o nível de significância para considerar múlitplas comparações, chegamos aà conclusão que relação entre as comorbidades e o resultado do teste são estatisticamente significativas.\n",
    "\n",
    "No entanto, essas relações são diferentes a depender da faixa etária:\n",
    "\n",
    "* **Crianças até 10 anos**: estão mais vulneráveis ao acometimento por COVID se tem pneumonia ou problemas relacionados à obesidade (excesso de peso ou diabetes);\n",
    "* **Adolescentes, adultos até 60 anos e idosos entre 60 e 80 anos**: estão mais vulneráveis ao contágio se tem qualquer comorbidade no conjunto de dados; e\n",
    "* **Idosos com mais de 80 anos**: Estão mais vulneráveis ao acometimento por COVID se tem doenças pulmonares, se são imunossuprimidos ou se tem outras doenças.\n",
    "\n",
    "No geral, as maiores comorbidades associadas a um teste positivo de COVID são pulmonares ou com pacientes imunossuprimidos.\n",
    "\n",
    "Notamos também que, \n",
    "* com exceção de crianças até 10 anos, **a prática regular do fumo está relacionada ao acometimento por COVID**; e\n",
    "* em todas as faixas etárias, **a presença de problemas relacionados a obesidade (excesso de peso ou diabetes) está associada ao contágio por COVID**. A exceção são os muito idosos; uma razão para isso é o fato de os obesos não chegarem a idades mais avançadas em números suficientes."
   ]
  },
  {
   "cell_type": "markdown",
   "metadata": {},
   "source": [
    "A tabela abaixo mostra o teste de hipótese em que a hipótese nula $H_0$ é **não há nenhuma relação entre o grupo de comorbidades e o resultado do teste de COVID para cada faixa etária**.\n",
    "\n",
    "Reijeitamos $H_0$?\n",
    "\n",
    "|          Comorbidade | criança até 10 anos | adulto (entre 10 e 60 anos) | idoso (entre 60 e 80 anos) | muito idoso (acima de 80 anos) |\n",
    "|----------------:|:-------------------:|:---------------------------:|:--------------------------:|:------------------------------:|\n",
    "|         Coração |         Não         |             Sim             |             Sim            |               Não              |\n",
    "|          Pulmão |         Sim         |             Sim             |             Sim            |               Sim              |\n",
    "|       Obesidade |         Sim         |             Sim             |             Sim            |               Não              |\n",
    "| Imunossupressão |         Não         |             Sim             |             Sim            |               Sim              |\n",
    "|          Outras |         Não         |             Não             |             Sim            |               Sim              |"
   ]
  },
  {
   "cell_type": "markdown",
   "metadata": {},
   "source": [
    "Uma outra variável potencialmente importante para o modelo é o sexo. Homens tem mais resultados positivos de COVID que mulheres (diferença estatisticamente significativa):\n",
    "\n",
    "![testes chisq entre sexo e resultado teste de covid](../assets/sexo_resultado_chisq.png)"
   ]
  },
  {
   "cell_type": "markdown",
   "metadata": {},
   "source": [
    "Por fim, uma última variável que pode se mostrar relevante é se o paciente teve contato com outras pessoas comprovadamente com COVID (`contact_other_covid`). Ela tem relação com alguns outros campos."
   ]
  },
  {
   "cell_type": "markdown",
   "metadata": {},
   "source": [
    "## Construção do modelo\n",
    "\n",
    "Construímos o modelo blaha"
   ]
  },
  {
   "cell_type": "markdown",
   "metadata": {},
   "source": [
    "## Otimização dos modelos\n",
    "\n",
    "Cada modelo de aprendizado de máquina é construído em cima de alguns parâmetros. Por exemplo, no modelo de regressão logística, há um parâmetro regulando a presença ou não do intercepto (`fit_intercept`) e um outro controlando a regularização do modelo, *i.e.* a penalização para muitos coeficientes (`penalty`), entre outros. Estes são chamados ***hiperparâmetros***.\n",
    "\n",
    "A otimização do modelo consiste na escolha dos hiperparâmetros de forma a maximizar/minimizar alguma métrica. Neste caso, para sermos consistentes com o estudo realizado na parte de modelagem, vamos testar várias combinações de hiperparâmetros e ranqueá-las através do *Brier score*. Um modelo se adere mais ao resultado se essa métrica for menor que a de um outro modelo; logo, minimizamos o *Brier score* das combinações de hiperparâmetros. Levamos em conta também a área sob a curva ROC."
   ]
  },
  {
   "cell_type": "markdown",
   "metadata": {},
   "source": [
    "Dos modelos de aprendizado de maquina que testamos para predizer o resultado dos testes de COVID, dois performaram muito bem com parâmetros *default*: regressão logística e *XGBoost*.\n",
    "\n",
    "Para cada um deles, realizamos uma busca no espaço de hiperparâmetros para determinar quais eram mais aplicáveis ao problema em questão, *i.e.* qual conjunto performaria melhor nas métricas escolhidas (*Brier score* e AUROC)."
   ]
  },
  {
   "cell_type": "markdown",
   "metadata": {},
   "source": [
    "Como podemos ver na tabela abaixo, o modelo de regressão logística começou com métricas ligeiramente melhores, mas com parâmetros otimizados o modelo XGBoost performou melhor:\n",
    "\n",
    "***TABELA!***\n",
    "\n",
    "![curva roc otimizada](../assets/roc_otimizado.png)"
   ]
  },
  {
   "cell_type": "markdown",
   "metadata": {},
   "source": [
    "Por esse motivo, escolhemos o modelo XGBoost com os seguintes parâmetros:\n",
    "\n",
    "- `base_score`: 0.5,\n",
    "- `booster`: 'gbtree',\n",
    "- `colsample_bylevel`: 1,\n",
    "- `colsample_bynode`: 1,\n",
    "- `colsample_bytree`: 1,\n",
    "- `criterion`: 'mae',\n",
    "- `enable_categorical`: False,\n",
    "- `eval_metric`: 'logloss',\n",
    "- `gamma`: 0,\n",
    "- `gpu_id`: -1,\n",
    "- `importance_type`: None,\n",
    "- `interaction_constraints`: '',\n",
    "- `learning_rate`: 0.1,\n",
    "- `max_delta_step`: 0,\n",
    "- `max_depth`: 3,\n",
    "- `max_features`: 'log2',\n",
    "- `min_child_weight`: 1,\n",
    "- `missing`: nan,\n",
    "- `monotone_constraints`: '()',\n",
    "- `n_estimators`: 100,\n",
    "- `n_jobs`: 8,\n",
    "- `num_parallel_tree`: 1,\n",
    "- `objective`: 'binary:logistic',\n",
    "- `predictor`: 'auto',\n",
    "- `random_state`: 42,\n",
    "- `reg_alpha`: 0,\n",
    "- `reg_lambda`: 1,\n",
    "- `scale_pos_weight`: 1,\n",
    "- `subsample`: 1,\n",
    "- `tree_method`: 'exact',\n",
    "- `use_label_encoder`: True,\n",
    "- `validate_parameters`: 1,\n",
    "- `verbosity`: None"
   ]
  },
  {
   "cell_type": "markdown",
   "metadata": {},
   "source": [
    "Conduzimos ainda uma análise de otimização do threshold de decisão. Entendemos que um falso negativo na predição de um resultado de teste de COVID (predizer que o resultado dará negativo, mas o resultado dar positivo) é mais prejudicial que um falso positivo; no primeiro caso, o paciente será liberado e pode infectar outras pessoas, facilitando a transmissão; já no segundo, o paciente se isolará sem necessidade, porém sem maiores consequências.\n",
    "\n",
    "Em outras palavras, a métrica *recall* (dentre os resultados de testes positivos/negativos, quantos acertamos?) é mais importante para a otimização do *threshold* que a precisão (dentre os resultamos que predizemos ser positivos, quantos acertamos?).\n",
    "\n",
    "Sendo assim, utilizamos duas métricas de referência:\n",
    "\n",
    "* **Custo estimado**: estimamos que o custo de um falso negativo é 5x maior que o custo de um falso positivo; e\n",
    "* **F-$\\beta$ score**: como priorizamos o *recall* em detrimento da precisão, utilizamos um $\\beta = 1.5$\n",
    "\n",
    "Conforme observamos no gráfico...\n",
    "\n",
    "![otimizacao de threshold](../assets/custo_threshold.png)\n",
    "\n",
    "...um *threshold* $\\theta = 24\\%$ parece ser o melhor para limiar de tomada de decisão."
   ]
  }
 ],
 "metadata": {
  "language_info": {
   "name": "python"
  },
  "orig_nbformat": 4
 },
 "nbformat": 4,
 "nbformat_minor": 2
}
